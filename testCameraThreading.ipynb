{
 "cells": [
  {
   "cell_type": "code",
   "execution_count": 1,
   "metadata": {},
   "outputs": [],
   "source": [
    "import yolov5"
   ]
  },
  {
   "cell_type": "code",
   "execution_count": 10,
   "metadata": {},
   "outputs": [
    {
     "name": "stderr",
     "output_type": "stream",
     "text": [
      "Exception in thread Thread-35 (process_frames):\n",
      "Traceback (most recent call last):\n",
      "  File \"/opt/anaconda3/envs/SDenv/lib/python3.12/threading.py\", line 1075, in _bootstrap_inner\n",
      "    self.run()\n",
      "  File \"/opt/anaconda3/envs/SDenv/lib/python3.12/site-packages/ipykernel/ipkernel.py\", line 766, in run_closure\n",
      "    _threading_Thread_run(self)\n",
      "  File \"/opt/anaconda3/envs/SDenv/lib/python3.12/threading.py\", line 1012, in run\n",
      "    self._target(*self._args, **self._kwargs)\n",
      "  File \"/var/folders/zz/zbq1mkb565lg9rwvykm7fxf80000gn/T/ipykernel_24124/4074307236.py\", line 35, in process_frames\n",
      "  File \"/opt/anaconda3/envs/SDenv/lib/python3.12/site-packages/torch/nn/modules/module.py\", line 1511, in _wrapped_call_impl\n",
      "    return self._call_impl(*args, **kwargs)\n",
      "           ^^^^^^^^^^^^^^^^^^^^^^^^^^^^^^^^\n",
      "  File \"/opt/anaconda3/envs/SDenv/lib/python3.12/site-packages/torch/nn/modules/module.py\", line 1520, in _call_impl\n",
      "    return forward_call(*args, **kwargs)\n",
      "           ^^^^^^^^^^^^^^^^^^^^^^^^^^^^^\n",
      "  File \"/opt/anaconda3/envs/SDenv/lib/python3.12/site-packages/torch/utils/_contextlib.py\", line 115, in decorate_context\n",
      "    return func(*args, **kwargs)\n",
      "           ^^^^^^^^^^^^^^^^^^^^^\n",
      "  File \"/opt/anaconda3/envs/SDenv/lib/python3.12/site-packages/yolov5/models/common.py\", line 696, in forward\n",
      "    if im.shape[0] < 5:  # image in CHW\n",
      "       ^^^^^^^^\n",
      "AttributeError: 'Queue' object has no attribute 'shape'\n"
     ]
    },
    {
     "name": "stdout",
     "output_type": "stream",
     "text": [
      "Cameras started\n",
      "Type of frame: <class 'queue.Queue'>\n",
      "Type of frame: <class 'queue.Queue'>\n",
      "Type of frame: <class 'queue.Queue'>\n"
     ]
    },
    {
     "name": "stderr",
     "output_type": "stream",
     "text": [
      "Exception in thread Thread-34 (capture_frames):\n",
      "Traceback (most recent call last):\n",
      "  File \"/opt/anaconda3/envs/SDenv/lib/python3.12/threading.py\", line 1075, in _bootstrap_inner\n",
      "    self.run()\n",
      "  File \"/opt/anaconda3/envs/SDenv/lib/python3.12/site-packages/ipykernel/ipkernel.py\", line 766, in run_closure\n",
      "    _threading_Thread_run(self)\n",
      "  File \"/opt/anaconda3/envs/SDenv/lib/python3.12/threading.py\", line 1012, in run\n",
      "    self._target(*self._args, **self._kwargs)\n",
      "  File \"/Users/nirvikmitra/Senior Design/BikeBuddy/cameraThreading.py\", line 18, in capture_frames\n",
      "    while self.running: \n",
      "            ^^^^^^^^^^^^^\n",
      "  File \"/opt/anaconda3/envs/SDenv/lib/python3.12/queue.py\", line 148, in put\n",
      "    raise Full\n",
      "queue.Full\n"
     ]
    },
    {
     "name": "stdout",
     "output_type": "stream",
     "text": [
      "Stopping...\n",
      "Cameras stopped\n"
     ]
    }
   ],
   "source": [
    "import cv2\n",
    "import threading\n",
    "import time\n",
    "from cameraThreading import CameraThread  # Import your CameraThread class\n",
    "\n",
    "# Load YOLOv5 model\n",
    "model = yolov5.load('yolov5s.pt')\n",
    "\n",
    "# Define camera indices (adjust based on your setup)\n",
    "camera_indices = [0]  # Change if using multiple cameras\n",
    "\n",
    "# Initialize the camera thread\n",
    "camera_thread = CameraThread(camera_indices)\n",
    "camera_thread.startCameras()\n",
    "\n",
    "# Global frame counter\n",
    "frame_counter = 0\n",
    "\n",
    "def process_frames():\n",
    "    global frame_counter\n",
    "    while True:\n",
    "        for cam_idx in camera_indices:\n",
    "            frame = camera_thread.getFrames()\n",
    "            print(f\"Type of frame: {type(frame)}\")\n",
    "            \n",
    "            if frame is None:\n",
    "                continue  # Skip this loop iteration if no frame is available\n",
    "\n",
    "            frame_counter += 1\n",
    "\n",
    "            # Process every 3rd frame\n",
    "            if frame_counter % 3 == 0:\n",
    "\n",
    "                # Run YOLOv5 inference\n",
    "                results = model(frame)\n",
    "\n",
    "                # Display YOLOv5's built-in result window\n",
    "                results.show()\n",
    "\n",
    "        # Small sleep to prevent high CPU usage\n",
    "        time.sleep(0.01)\n",
    "\n",
    "\n",
    "# Start YOLOv5 processing in a separate thread\n",
    "yolo_thread = threading.Thread(target=process_frames, daemon=True)\n",
    "yolo_thread.start()\n",
    "\n",
    "# Main loop to keep script running\n",
    "try:\n",
    "    while True:\n",
    "        time.sleep(1)  # Keep main thread alive\n",
    "except KeyboardInterrupt:\n",
    "    print(\"Stopping...\")\n",
    "\n",
    "# Clean up\n",
    "camera_thread.stopCameras()\n",
    "cv2.destroyAllWindows()\n"
   ]
  },
  {
   "cell_type": "code",
   "execution_count": null,
   "metadata": {},
   "outputs": [],
   "source": []
  }
 ],
 "metadata": {
  "kernelspec": {
   "display_name": "SDenv",
   "language": "python",
   "name": "python3"
  },
  "language_info": {
   "codemirror_mode": {
    "name": "ipython",
    "version": 3
   },
   "file_extension": ".py",
   "mimetype": "text/x-python",
   "name": "python",
   "nbconvert_exporter": "python",
   "pygments_lexer": "ipython3",
   "version": "3.12.8"
  }
 },
 "nbformat": 4,
 "nbformat_minor": 2
}
