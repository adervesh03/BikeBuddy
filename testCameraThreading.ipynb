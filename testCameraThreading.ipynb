{
 "cells": [
  {
   "cell_type": "code",
   "execution_count": 1,
   "metadata": {},
   "outputs": [],
   "source": [
    "import yolov5\n",
    "import cv2\n",
    "import threading\n",
    "import time\n",
    "from cameraThreading import CameraThread  # Import your CameraThread class"
   ]
  },
  {
   "cell_type": "code",
   "execution_count": null,
   "metadata": {},
   "outputs": [],
   "source": [
    "camera_thread = CameraThread(0)\n",
    "print(dir(camera_thread))\n",
    "print(f\"camera_thread.getFrames: {camera_thread.getFrames}\")\n",
    "print(f\"Type of camera_thread.getFrames: {type(camera_thread.getFrames)}\")\n",
    "print(CameraThread.__dict__)\n",
    "\n"
   ]
  },
  {
   "cell_type": "code",
   "execution_count": null,
   "metadata": {},
   "outputs": [],
   "source": [
    "\n",
    "# Load YOLOv5 model\n",
    "model = yolov5.load('yolov5s.pt')\n",
    "\n",
    "# Define camera indices (adjust based on your setup)\n",
    "camera_indices = [0]  # Change if using multiple cameras\n",
    "\n",
    "# Initialize the camera thread\n",
    "camera_thread = CameraThread(camera_indices)\n",
    "camera_thread.startCameras()\n",
    "\n",
    "# Global frame counter\n",
    "frame_counter = 0\n",
    "\n",
    "def process_frames():\n",
    "    global frame_counter\n",
    "    while True:\n",
    "        for cam_idx in camera_indices:\n",
    "            frame = camera_thread.getFrames()\n",
    "            \n",
    "            if frame is None:\n",
    "                continue  # Skip this loop iteration if no frame is available\n",
    "\n",
    "            frame_counter += 1\n",
    "\n",
    "            # Process every 3rd frame\n",
    "            if frame_counter % 100 == 0:\n",
    "                print(f\"Type of frame: {type(frame)}\")\n",
    "                print(f\"Processing frame from camera {cam_idx}\")\n",
    "\n",
    "        # Small sleep to prevent high CPU usage\n",
    "        time.sleep(0.01)\n",
    "\n",
    "\n",
    "# Start YOLOv5 processing in a separate thread\n",
    "yolo_thread = threading.Thread(target=process_frames, daemon=True)\n",
    "yolo_thread.start()\n",
    "\n",
    "# Main loop to keep script running\n",
    "try:\n",
    "    while True:\n",
    "        time.sleep(1)  # Keep main thread alive\n",
    "except KeyboardInterrupt:\n",
    "    print(\"Stopping...\")\n",
    "\n",
    "# Clean up\n",
    "camera_thread.stopCameras()\n",
    "cv2.destroyAllWindows()\n"
   ]
  },
  {
   "cell_type": "code",
   "execution_count": null,
   "metadata": {},
   "outputs": [],
   "source": [
    "camera_thread = CameraThread([0])  # Start camera thread\n",
    "camera_thread.startCameras()\n",
    "\n",
    "time.sleep(5)  # Let it run for a bit\n",
    "\n",
    "print(\"Stopping camera thread...\")\n",
    "camera_thread.stopCameras()  # Stops the thread properly\n",
    "print(\"Test finished\")\n",
    "print(\"Active threads:\", threading.enumerate())\n"
   ]
  },
  {
   "cell_type": "code",
   "execution_count": 2,
   "metadata": {},
   "outputs": [
    {
     "name": "stdout",
     "output_type": "stream",
     "text": [
      "Active threads: [<_MainThread(MainThread, started 140704488859264)>, <Thread(IOPub, started daemon 123145480269824)>, <Heartbeat(Heartbeat, started daemon 123145497059328)>, <Thread(Thread-1 (_watch_pipe_fd), started daemon 123145514921984)>, <Thread(Thread-2 (_watch_pipe_fd), started daemon 123145531711488)>, <ControlThread(Control, started daemon 123145548500992)>, <HistorySavingThread(IPythonHistorySavingThread, started 123145565290496)>]\n"
     ]
    }
   ],
   "source": [
    "\n",
    "print(\"Active threads:\", threading.enumerate())\n"
   ]
  },
  {
   "cell_type": "code",
   "execution_count": null,
   "metadata": {},
   "outputs": [],
   "source": []
  }
 ],
 "metadata": {
  "kernelspec": {
   "display_name": "SDenv",
   "language": "python",
   "name": "python3"
  },
  "language_info": {
   "codemirror_mode": {
    "name": "ipython",
    "version": 3
   },
   "file_extension": ".py",
   "mimetype": "text/x-python",
   "name": "python",
   "nbconvert_exporter": "python",
   "pygments_lexer": "ipython3",
   "version": "3.12.8"
  }
 },
 "nbformat": 4,
 "nbformat_minor": 2
}
