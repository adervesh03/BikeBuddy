{
 "cells": [
  {
   "cell_type": "code",
   "execution_count": 1,
   "metadata": {},
   "outputs": [
    {
     "name": "stderr",
     "output_type": "stream",
     "text": [
      "/Users/herdt/Library/CloudStorage/OneDrive-UniversityofIowa/Year 4/Senior Design/Code/BikeBuddy/.venv/lib/python3.12/site-packages/tqdm/auto.py:21: TqdmWarning: IProgress not found. Please update jupyter and ipywidgets. See https://ipywidgets.readthedocs.io/en/stable/user_install.html\n",
      "  from .autonotebook import tqdm as notebook_tqdm\n"
     ]
    }
   ],
   "source": [
    "import yolov5\n",
    "import cv2\n",
    "from PIL import Image\n",
    "from io import BytesIO\n",
    "from transformers import pipeline\n",
    "import torch"
   ]
  },
  {
   "cell_type": "code",
   "execution_count": 2,
   "metadata": {},
   "outputs": [
    {
     "name": "stderr",
     "output_type": "stream",
     "text": [
      "Fusing layers... \n",
      "YOLOv5s summary: 213 layers, 7225885 parameters, 0 gradients, 16.4 GFLOPs\n",
      "Adding AutoShape... \n",
      "Loading checkpoint shards: 100%|██████████| 2/2 [00:05<00:00,  2.61s/it]\n"
     ]
    }
   ],
   "source": [
    "# Load video data\n",
    "cap = cv2.VideoCapture(\"dashcamtest.mov\")\n",
    "\n",
    "# Load YOLOv5 model\n",
    "model = yolov5.load(\"yolov5s.pt\")\n",
    "\n",
    "# Load LLM model\n",
    "pipe = pipeline(\n",
    "    \"text-generation\",\n",
    "    model=\"google/gemma-2-2b-it\",\n",
    "    device=\"mps\",  # replace with \"mps\" to run on a Mac device\n",
    ")"
   ]
  },
  {
   "cell_type": "code",
   "execution_count": 3,
   "metadata": {},
   "outputs": [
    {
     "data": {
      "text/plain": [
       "[{'generated_text': [{'role': 'user', 'content': 'who are you?'},\n",
       "   {'role': 'assistant', 'content': 'I am Gemma, an open-'}]}]"
      ]
     },
     "execution_count": 3,
     "metadata": {},
     "output_type": "execute_result"
    }
   ],
   "source": [
    "messages = [\n",
    "    {\"role\": \"user\", \"content\": \"who are you?\"},\n",
    "]\n",
    "\n",
    "pipe(messages)"
   ]
  },
  {
   "cell_type": "code",
   "execution_count": null,
   "metadata": {},
   "outputs": [
    {
     "name": "stderr",
     "output_type": "stream",
     "text": [
      "/Users/herdt/Library/CloudStorage/OneDrive-UniversityofIowa/Year 4/Senior Design/Code/BikeBuddy/.venv/lib/python3.12/site-packages/yolov5/models/common.py:709: FutureWarning: `torch.cuda.amp.autocast(args...)` is deprecated. Please use `torch.amp.autocast('cuda', args...)` instead.\n",
      "  with amp.autocast(autocast):\n",
      "/Users/herdt/Library/CloudStorage/OneDrive-UniversityofIowa/Year 4/Senior Design/Code/BikeBuddy/.venv/lib/python3.12/site-packages/yolov5/models/common.py:709: FutureWarning: `torch.cuda.amp.autocast(args...)` is deprecated. Please use `torch.amp.autocast('cuda', args...)` instead.\n",
      "  with amp.autocast(autocast):\n",
      "/Users/herdt/Library/CloudStorage/OneDrive-UniversityofIowa/Year 4/Senior Design/Code/BikeBuddy/.venv/lib/python3.12/site-packages/yolov5/models/common.py:709: FutureWarning: `torch.cuda.amp.autocast(args...)` is deprecated. Please use `torch.amp.autocast('cuda', args...)` instead.\n",
      "  with amp.autocast(autocast):\n",
      "/Users/herdt/Library/CloudStorage/OneDrive-UniversityofIowa/Year 4/Senior Design/Code/BikeBuddy/.venv/lib/python3.12/site-packages/yolov5/models/common.py:709: FutureWarning: `torch.cuda.amp.autocast(args...)` is deprecated. Please use `torch.amp.autocast('cuda', args...)` instead.\n",
      "  with amp.autocast(autocast):\n",
      "/Users/herdt/Library/CloudStorage/OneDrive-UniversityofIowa/Year 4/Senior Design/Code/BikeBuddy/.venv/lib/python3.12/site-packages/yolov5/models/common.py:709: FutureWarning: `torch.cuda.amp.autocast(args...)` is deprecated. Please use `torch.amp.autocast('cuda', args...)` instead.\n",
      "  with amp.autocast(autocast):\n",
      "/Users/herdt/Library/CloudStorage/OneDrive-UniversityofIowa/Year 4/Senior Design/Code/BikeBuddy/.venv/lib/python3.12/site-packages/yolov5/models/common.py:709: FutureWarning: `torch.cuda.amp.autocast(args...)` is deprecated. Please use `torch.amp.autocast('cuda', args...)` instead.\n",
      "  with amp.autocast(autocast):\n",
      "2024-12-04 18:02:46.350 Python[18377:15519250] +[IMKClient subclass]: chose IMKClient_Modern\n",
      "2024-12-04 18:02:46.350 Python[18377:15519250] +[IMKInputSession subclass]: chose IMKInputSession_Modern\n",
      "/Users/herdt/Library/CloudStorage/OneDrive-UniversityofIowa/Year 4/Senior Design/Code/BikeBuddy/.venv/lib/python3.12/site-packages/yolov5/models/common.py:709: FutureWarning: `torch.cuda.amp.autocast(args...)` is deprecated. Please use `torch.amp.autocast('cuda', args...)` instead.\n",
      "  with amp.autocast(autocast):\n",
      "/Users/herdt/Library/CloudStorage/OneDrive-UniversityofIowa/Year 4/Senior Design/Code/BikeBuddy/.venv/lib/python3.12/site-packages/yolov5/models/common.py:709: FutureWarning: `torch.cuda.amp.autocast(args...)` is deprecated. Please use `torch.amp.autocast('cuda', args...)` instead.\n",
      "  with amp.autocast(autocast):\n",
      "/Users/herdt/Library/CloudStorage/OneDrive-UniversityofIowa/Year 4/Senior Design/Code/BikeBuddy/.venv/lib/python3.12/site-packages/yolov5/models/common.py:709: FutureWarning: `torch.cuda.amp.autocast(args...)` is deprecated. Please use `torch.amp.autocast('cuda', args...)` instead.\n",
      "  with amp.autocast(autocast):\n",
      "/Users/herdt/Library/CloudStorage/OneDrive-UniversityofIowa/Year 4/Senior Design/Code/BikeBuddy/.venv/lib/python3.12/site-packages/yolov5/models/common.py:709: FutureWarning: `torch.cuda.amp.autocast(args...)` is deprecated. Please use `torch.amp.autocast('cuda', args...)` instead.\n",
      "  with amp.autocast(autocast):\n",
      "/Users/herdt/Library/CloudStorage/OneDrive-UniversityofIowa/Year 4/Senior Design/Code/BikeBuddy/.venv/lib/python3.12/site-packages/yolov5/models/common.py:709: FutureWarning: `torch.cuda.amp.autocast(args...)` is deprecated. Please use `torch.amp.autocast('cuda', args...)` instead.\n",
      "  with amp.autocast(autocast):\n",
      "/Users/herdt/Library/CloudStorage/OneDrive-UniversityofIowa/Year 4/Senior Design/Code/BikeBuddy/.venv/lib/python3.12/site-packages/yolov5/models/common.py:709: FutureWarning: `torch.cuda.amp.autocast(args...)` is deprecated. Please use `torch.amp.autocast('cuda', args...)` instead.\n",
      "  with amp.autocast(autocast):\n",
      "/Users/herdt/Library/CloudStorage/OneDrive-UniversityofIowa/Year 4/Senior Design/Code/BikeBuddy/.venv/lib/python3.12/site-packages/yolov5/models/common.py:709: FutureWarning: `torch.cuda.amp.autocast(args...)` is deprecated. Please use `torch.amp.autocast('cuda', args...)` instead.\n",
      "  with amp.autocast(autocast):\n",
      "/Users/herdt/Library/CloudStorage/OneDrive-UniversityofIowa/Year 4/Senior Design/Code/BikeBuddy/.venv/lib/python3.12/site-packages/yolov5/models/common.py:709: FutureWarning: `torch.cuda.amp.autocast(args...)` is deprecated. Please use `torch.amp.autocast('cuda', args...)` instead.\n",
      "  with amp.autocast(autocast):\n"
     ]
    },
    {
     "name": "stdout",
     "output_type": "stream",
     "text": [
      "Exiting...\n"
     ]
    },
    {
     "name": "stderr",
     "output_type": "stream",
     "text": [
      "/Users/herdt/Library/CloudStorage/OneDrive-UniversityofIowa/Year 4/Senior Design/Code/BikeBuddy/.venv/lib/python3.12/site-packages/yolov5/models/common.py:709: FutureWarning: `torch.cuda.amp.autocast(args...)` is deprecated. Please use `torch.amp.autocast('cuda', args...)` instead.\n",
      "  with amp.autocast(autocast):\n",
      "/Users/herdt/Library/CloudStorage/OneDrive-UniversityofIowa/Year 4/Senior Design/Code/BikeBuddy/.venv/lib/python3.12/site-packages/yolov5/models/common.py:709: FutureWarning: `torch.cuda.amp.autocast(args...)` is deprecated. Please use `torch.amp.autocast('cuda', args...)` instead.\n",
      "  with amp.autocast(autocast):\n",
      "/Users/herdt/Library/CloudStorage/OneDrive-UniversityofIowa/Year 4/Senior Design/Code/BikeBuddy/.venv/lib/python3.12/site-packages/yolov5/models/common.py:709: FutureWarning: `torch.cuda.amp.autocast(args...)` is deprecated. Please use `torch.amp.autocast('cuda', args...)` instead.\n",
      "  with amp.autocast(autocast):\n"
     ]
    },
    {
     "ename": "",
     "evalue": "",
     "output_type": "error",
     "traceback": [
      "\u001b[1;31mThe Kernel crashed while executing code in the current cell or a previous cell. \n",
      "\u001b[1;31mPlease review the code in the cell(s) to identify a possible cause of the failure. \n",
      "\u001b[1;31mClick <a href='https://aka.ms/vscodeJupyterKernelCrash'>here</a> for more info. \n",
      "\u001b[1;31mView Jupyter <a href='command:jupyter.viewOutput'>log</a> for further details."
     ]
    }
   ],
   "source": [
    "# Define grid dimensions (e.g., 3x3 grid)\n",
    "grid_rows = 5\n",
    "grid_cols = 5\n",
    "\n",
    "# Define class labels (example for COCO dataset)\n",
    "class_labels = model.names\n",
    "\n",
    "# Define the class IDs for vehicles (e.g., car, motorcycle, bus, truck)\n",
    "vehicle_class_ids = [2, 3, 5, 7]  # Car, Motorcycle, Bus, Truck\n",
    "\n",
    "while True:\n",
    "    ret, frame = cap.read()\n",
    "    if not ret:\n",
    "        print(\"Error: Cannot read from video.\")\n",
    "        break\n",
    "\n",
    "    # Get frame dimensions\n",
    "    frame_height, frame_width = frame.shape[:2]\n",
    "\n",
    "    # Calculate grid cell size\n",
    "    cell_width = frame_width // grid_cols\n",
    "    cell_height = frame_height // grid_rows\n",
    "\n",
    "    # Draw the grid on the frame\n",
    "    for i in range(1, grid_cols):\n",
    "        cv2.line(frame, (i * cell_width, 0), (i * cell_width, frame_height), (0, 255, 0), 2)\n",
    "    for i in range(1, grid_rows):\n",
    "        cv2.line(frame, (0, i * cell_height), (frame_width, i * cell_height), (0, 255, 0), 2)\n",
    "\n",
    "    # Convert the frame to a PIL image\n",
    "    frame_rgb = cv2.cvtColor(frame, cv2.COLOR_BGR2RGB)\n",
    "    pil_image = Image.fromarray(frame_rgb)\n",
    "\n",
    "    # Perform object detection on the frame\n",
    "    results = model(pil_image)\n",
    "\n",
    "    # Draw the bounding boxes and check grid cells\n",
    "    for result in results.xyxy[0]:\n",
    "        x1, y1, x2, y2, conf, class_id = result\n",
    "        class_id = int(class_id)\n",
    "        if class_id in vehicle_class_ids:\n",
    "            x1, y1, x2, y2 = int(x1), int(y1), int(x2), int(y2)\n",
    "            # Draw bounding box\n",
    "            cv2.rectangle(frame, (x1, y1), (x2, y2), (255, 0, 0), 2)\n",
    "            # Add label\n",
    "            label = f\"{class_labels[class_id]}: {conf:.2f}\"\n",
    "            cv2.putText(frame, label, (x1, y1 - 10), cv2.FONT_HERSHEY_SIMPLEX, 0.5, (255, 0, 0), 2)\n",
    "\n",
    "    # Display the frame with grid and bounding boxes\n",
    "    cv2.imshow(\"Frame\", frame)\n",
    "    key = cv2.waitKey(1) & 0xFF\n",
    "    if key == ord('q'):\n",
    "        print(\"Exiting...\")\n",
    "        break\n",
    "\n",
    "# Release the video capture object and close all OpenCV windows\n",
    "cap.release()\n",
    "cv2.destroyAllWindows()\n"
   ]
  },
  {
   "cell_type": "code",
   "execution_count": null,
   "metadata": {},
   "outputs": [],
   "source": []
  }
 ],
 "metadata": {
  "kernelspec": {
   "display_name": ".venv",
   "language": "python",
   "name": "python3"
  },
  "language_info": {
   "codemirror_mode": {
    "name": "ipython",
    "version": 3
   },
   "file_extension": ".py",
   "mimetype": "text/x-python",
   "name": "python",
   "nbconvert_exporter": "python",
   "pygments_lexer": "ipython3",
   "version": "3.12.7"
  }
 },
 "nbformat": 4,
 "nbformat_minor": 2
}
